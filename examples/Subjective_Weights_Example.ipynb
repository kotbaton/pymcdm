{
 "cells": [
  {
   "attachments": {},
   "cell_type": "markdown",
   "id": "baec24a8-dcd6-409c-90d3-d02f349d37ed",
   "metadata": {},
   "source": [
    "# Subjective Weights in Multi-Criteria Decision Making (MCDM)\n",
    "\n",
    "Subjective weights determination represent the importance assigned to criteria based on the preferences, judgments, or knowledge of decision-makers. Unlike objective weighting methods, where the weights are derived from the intrinsic properties of the data (e.g., entropy or correlation), subjective weights rely on human input and are influenced by experience, priorities, or specific decision-making contexts.\n",
    "\n",
    "Some common techniques for subjective weight determination include:\n",
    "- **Direct Assignment**: Decision-makers assign weights directly to criteria based on their judgment.\n",
    "- **Pairwise Comparison (e.g., AHP)**: Decision-makers evaluate the relative importance of criteria in pairs to derive consistent weights.\n",
    "- **Scoring Methods**: A fixed number of points is distributed among criteria to reflect their importance.\n",
    "- **Ranking Methods**: Criteria are ranked in order of importance, and weights are assigned based on the ranks.\n",
    "\n",
    "Subjective weight determination allows for flexibility and customization of the decision-making process, making it highly applicable in scenarios where decision-maker of expert input is vital.\n",
    "\n",
    "## Pairwise Comparison-Based methods\n",
    "\n",
    "The `pymcdm` library currently provides implementations for two pairwise comparison-based methods for determining subjective weights: AHP (Analytic Hierarchy Process) and RANCOM (RANking COMparison). In this example, we will demonstrate how to use the `pymcdm` library to apply both AHP and RANCOM for subjective weight determination, providing practical guidance on their usage.\n",
    "\n",
    "### AHP\n",
    "\n",
    "The implementation of AHP (Analytic Hierarchy Process) in the `pymcdm` library is designed with specific assumptions and features. \n",
    "\n",
    "1. For now only a 1-layer structure, meaning that all criteria are evaluated at the same hierarchical level without incorporating sub-criteria.\n",
    "2. Weights are calculated from the AHP pairwise maitrix using the eigenvector method.\n",
    "3. Pairwise comparison matrix accepts values from a predefined scale of 1 to 9 and their reciprocals (1/9 to 1), where 1 indicates equal importance between two criteria, and values like 9 and 1/9 represent extreme importance of one criterion over another and vice versa. I.e. possible values in the matrix are following: `{1, 2, 3, 4, 5, 6, 7, 8, 9, 1/2, 1/3, 1/4, 1/5, 1/6, 1/7, 1/8, 1/9}`.\n",
    "\n",
    "For both AHP and RANCOM methods, method's object can be instantiated using:\n",
    "- Scores - provide scores for each criterion as `np.array()`. Larger values indicates more important criteria.\n",
    "- Ranking - provide ranking for each criterion as `np.array()`. Smaller values indicates more important criteria.\n",
    "- Comparison matrix - input complete matrix. Note, that matrix is validated to check if all values are fits in 1-9 Saaty scale.\n",
    "- Text file with comparison matrix, in `.csv` format. Same validation is applied as in case of comparison matrix.\n",
    "- Manual comparison via command line interface."
   ]
  },
  {
   "cell_type": "code",
   "execution_count": 1,
   "id": "12051cd6-d611-4c6f-8693-c57129bfdecb",
   "metadata": {},
   "outputs": [],
   "source": [
    "# Essential imports\n",
    "import numpy as np\n",
    "from pymcdm.weights.subjective import AHP, RANCOM"
   ]
  },
  {
   "cell_type": "code",
   "execution_count": 2,
   "id": "2fae9e05-b32e-47a0-95b4-456c97fd6b28",
   "metadata": {},
   "outputs": [
    {
     "name": "stdout",
     "output_type": "stream",
     "text": [
      "[0.44342911 0.16919987 0.38737101]\n"
     ]
    }
   ],
   "source": [
    "# Suppose we have three criteria to evaluate. Define the scoring vector for them:\n",
    "scores = np.array([10, 3, 5])\n",
    "# You can use any positive numbers above zero to define scoring vector.\n",
    "\n",
    "# Create AHP object:\n",
    "ahp = AHP(scoring=scores)  # Note that only one argument can be provided.\n",
    "weights = ahp()  # Call the object to get weights.\n",
    "print(weights)"
   ]
  },
  {
   "cell_type": "code",
   "execution_count": 3,
   "id": "4b178f71-2f95-482c-bd5d-1c56b90f43cb",
   "metadata": {},
   "outputs": [
    {
     "name": "stdout",
     "output_type": "stream",
     "text": [
      "[0.54994561 0.20984352 0.24021087]\n"
     ]
    }
   ],
   "source": [
    "# Suppose we have three criteria to evaluate. Define the ranking vector for them:\n",
    "ranking = np.array([1, 3, 2])\n",
    "# You can use any positive numbers above zero to define ranking vector.\n",
    "\n",
    "ahp = AHP(ranking=ranking)\n",
    "weights = ahp()  # Call the object to get weights.\n",
    "print(weights)"
   ]
  },
  {
   "cell_type": "code",
   "execution_count": 4,
   "id": "dd7ff9eb-898d-4530-8ea8-dc2491c4c72a",
   "metadata": {},
   "outputs": [
    {
     "name": "stdout",
     "output_type": "stream",
     "text": [
      "[0.41058565 0.49139587 0.09801848]\n"
     ]
    }
   ],
   "source": [
    "# Sometimes you can want to use prepared matrix to instantiate AHP object:\n",
    "a = np.array([\n",
    "    [  1, 1/2,   7],\n",
    "    [  2,   1,   3],\n",
    "    [1/7, 1/3,   1]\n",
    "])\n",
    "\n",
    "ahp = AHP(matrix=a)\n",
    "weights = ahp()\n",
    "print(weights)"
   ]
  },
  {
   "cell_type": "code",
   "execution_count": 5,
   "id": "e305dcb4-1d0a-4da5-b313-9071de7d1f83",
   "metadata": {},
   "outputs": [
    {
     "name": "stdout",
     "output_type": "stream",
     "text": [
      "Please compare two objects:\n",
      "Choose values in scale from 1 to 9 where:\n",
      "  1: if \"Price\" is equally important to \"Mileage\";\n",
      "  3: if \"Price\" is weakly preferred than to \"Mileage\";\n",
      "  5: if \"Price\" is strongly preferred than to \"Mileage\";\n",
      "  7: if \"Price\" is very strongly preferred than to \"Mileage\";\n",
      "  9: if \"Price\" is extremely more important than \"Mileage\";\n",
      "OR value in scale 1 to 1/9 where:\n",
      "  1: if \"Mileage\" is equally important to \"Price\";\n",
      "1/3: if \"Mileage\" is weakly preferred than to \"Price\";\n",
      "1/5: if \"Mileage\" is strongly preferred than to \"Price\";\n",
      "1/7: if \"Mileage\" is very strongly preferred than to \"Price\";\n",
      "1/9: if \"Mileage\" is extremely more important than \"Price\".\n"
     ]
    },
    {
     "name": "stdin",
     "output_type": "stream",
     "text": [
      "\n",
      "Your answer:  5\n"
     ]
    },
    {
     "name": "stdout",
     "output_type": "stream",
     "text": [
      "Please compare two objects:\n",
      "Choose values in scale from 1 to 9 where:\n",
      "  1: if \"Price\" is equally important to \"Year\";\n",
      "  3: if \"Price\" is weakly preferred than to \"Year\";\n",
      "  5: if \"Price\" is strongly preferred than to \"Year\";\n",
      "  7: if \"Price\" is very strongly preferred than to \"Year\";\n",
      "  9: if \"Price\" is extremely more important than \"Year\";\n",
      "OR value in scale 1 to 1/9 where:\n",
      "  1: if \"Year\" is equally important to \"Price\";\n",
      "1/3: if \"Year\" is weakly preferred than to \"Price\";\n",
      "1/5: if \"Year\" is strongly preferred than to \"Price\";\n",
      "1/7: if \"Year\" is very strongly preferred than to \"Price\";\n",
      "1/9: if \"Year\" is extremely more important than \"Price\".\n"
     ]
    },
    {
     "name": "stdin",
     "output_type": "stream",
     "text": [
      "\n",
      "Your answer:  1/2\n"
     ]
    },
    {
     "name": "stdout",
     "output_type": "stream",
     "text": [
      "Please compare two objects:\n",
      "Choose values in scale from 1 to 9 where:\n",
      "  1: if \"Mileage\" is equally important to \"Year\";\n",
      "  3: if \"Mileage\" is weakly preferred than to \"Year\";\n",
      "  5: if \"Mileage\" is strongly preferred than to \"Year\";\n",
      "  7: if \"Mileage\" is very strongly preferred than to \"Year\";\n",
      "  9: if \"Mileage\" is extremely more important than \"Year\";\n",
      "OR value in scale 1 to 1/9 where:\n",
      "  1: if \"Year\" is equally important to \"Mileage\";\n",
      "1/3: if \"Year\" is weakly preferred than to \"Mileage\";\n",
      "1/5: if \"Year\" is strongly preferred than to \"Mileage\";\n",
      "1/7: if \"Year\" is very strongly preferred than to \"Mileage\";\n",
      "1/9: if \"Year\" is extremely more important than \"Mileage\".\n"
     ]
    },
    {
     "name": "stdin",
     "output_type": "stream",
     "text": [
      "\n",
      "Your answer:  7\n"
     ]
    },
    {
     "name": "stdout",
     "output_type": "stream",
     "text": [
      "[0.43298618 0.35689191 0.21012191]\n",
      "2.038220426046577\n"
     ]
    }
   ],
   "source": [
    "# And there are also command line interface to fill pairwise matrix step-by-step. See the output below.\n",
    "criteria_names = ['Price', 'Mileage', 'Year']\n",
    "ahp = AHP(object_names=criteria_names)\n",
    "weights = ahp()  # Command line interface for matrix filling starts here.\n",
    "print(weights)\n",
    "print(ahp.get_cr())  # To check CR use get_cr() method\n",
    "ahp.to_csv('ahp_matrix.csv')  # Don't forget to save your matrix for later usage."
   ]
  },
  {
   "cell_type": "code",
   "execution_count": 6,
   "id": "2e762289-8b7e-4d0a-a2ea-a4b5d8e579a2",
   "metadata": {},
   "outputs": [
    {
     "name": "stdout",
     "output_type": "stream",
     "text": [
      "[0.43298618 0.35689191 0.21012191]\n"
     ]
    }
   ],
   "source": [
    "# Now, with previously saved matrix you can skip questions if needed:\n",
    "ahp = AHP(filename='ahp_matrix.csv')\n",
    "print(ahp())"
   ]
  },
  {
   "cell_type": "markdown",
   "id": "73f014cd-9ee4-4457-b212-3c4d917e55b2",
   "metadata": {},
   "source": [
    "### RANCOM\n",
    "\n",
    "The implementation of the RANCOM (RANking COMparison) in the `pymcdm` library is designed with specific features.\n",
    "\n",
    "For both AHP and RANCOM methods, method's object can be instantiated using:\n",
    "- Scores - provide scores for each criterion as `np.array()`. Larger values indicates more important criteria.\n",
    "- Ranking - provide ranking for each criterion as `np.array()`. Smaller values indicates more important criteria.\n",
    "- Comparison matrix - input complete matrix. Note, that matrix is validated to check if all values are fits in 1-9 Saaty scale.\n",
    "- Text file with comparison matrix, in `.csv` format. Same validation is applied as in case of comparison matrix.\n",
    "- Manual comparison via command line interface."
   ]
  },
  {
   "cell_type": "code",
   "execution_count": 7,
   "id": "2bb3ccbb-d4dc-4da5-9f3c-146940fab872",
   "metadata": {},
   "outputs": [
    {
     "name": "stdout",
     "output_type": "stream",
     "text": [
      "[0.55555556 0.11111111 0.33333333]\n"
     ]
    }
   ],
   "source": [
    "# Suppose we have three criteria to evaluate. Define the scoring vector for them:\n",
    "scores = np.array([10, 3, 5])\n",
    "# You can use any positive numbers above zero to define scoring vector.\n",
    "\n",
    "# Create RANCOM object:\n",
    "rancom = RANCOM(scoring=scores)  # Note that only one argument can be provided.\n",
    "weights = rancom()  # Call the object to get weights.\n",
    "print(weights)"
   ]
  },
  {
   "cell_type": "code",
   "execution_count": 8,
   "id": "fe85f6ae-916e-43bc-ba74-a605e5a90049",
   "metadata": {},
   "outputs": [
    {
     "name": "stdout",
     "output_type": "stream",
     "text": [
      "[0.55555556 0.11111111 0.33333333]\n"
     ]
    }
   ],
   "source": [
    "# Suppose we have three criteria to evaluate. Define the ranking vector for them:\n",
    "ranking = np.array([1, 3, 2])\n",
    "# You can use any positive numbers above zero to define ranking vector.\n",
    "\n",
    "rancom = RANCOM(ranking=ranking)\n",
    "weights = rancom()  # Call the object to get weights.\n",
    "print(weights)"
   ]
  },
  {
   "cell_type": "code",
   "execution_count": 9,
   "id": "4977692c-e7f5-4314-acdc-95fa95cfdda8",
   "metadata": {},
   "outputs": [
    {
     "name": "stdout",
     "output_type": "stream",
     "text": [
      "Please compare two objects:\n",
      "Choose:\n",
      "  1: if \"Price\" is more important than \"Mileage\";\n",
      "1/2: if \"Price\" is equally important to \"Mileage\";\n",
      "  0: if \"Mileage\" is more important than \"Price\".\n"
     ]
    },
    {
     "name": "stdin",
     "output_type": "stream",
     "text": [
      "\n",
      "Your answer:  1\n"
     ]
    },
    {
     "name": "stdout",
     "output_type": "stream",
     "text": [
      "Please compare two objects:\n",
      "Choose:\n",
      "  1: if \"Price\" is more important than \"Year\";\n",
      "1/2: if \"Price\" is equally important to \"Year\";\n",
      "  0: if \"Year\" is more important than \"Price\".\n"
     ]
    },
    {
     "name": "stdin",
     "output_type": "stream",
     "text": [
      "\n",
      "Your answer:  1/2\n"
     ]
    },
    {
     "name": "stdout",
     "output_type": "stream",
     "text": [
      "Please compare two objects:\n",
      "Choose:\n",
      "  1: if \"Mileage\" is more important than \"Year\";\n",
      "1/2: if \"Mileage\" is equally important to \"Year\";\n",
      "  0: if \"Year\" is more important than \"Mileage\".\n"
     ]
    },
    {
     "name": "stdin",
     "output_type": "stream",
     "text": [
      "\n",
      "Your answer:  1\n"
     ]
    },
    {
     "name": "stdout",
     "output_type": "stream",
     "text": [
      "[0.44444444 0.33333333 0.22222222]\n"
     ]
    }
   ],
   "source": [
    "# And there are also command line interface  to fill pairwise matrix step-by-step. See the output below.\n",
    "criteria_names = ['Price', 'Mileage', 'Year']\n",
    "rancom = RANCOM(object_names=criteria_names)\n",
    "weights = rancom()  # Command line interface  for matrix filling starts here.\n",
    "print(weights)\n",
    "rancom.to_csv('rancom_matrix.csv')  # Don't forget to save your matrix for later usage."
   ]
  },
  {
   "cell_type": "code",
   "execution_count": 10,
   "id": "d420cdc5-0f5b-4b3f-850c-e6a20f9836a0",
   "metadata": {},
   "outputs": [
    {
     "name": "stdout",
     "output_type": "stream",
     "text": [
      "[0.44444444 0.33333333 0.22222222]\n"
     ]
    }
   ],
   "source": [
    "# Now, with previously saved matrix you can skip questions if needed:\n",
    "rancom = RANCOM(filename='rancom_matrix.csv')\n",
    "print(rancom())"
   ]
  }
 ],
 "metadata": {
  "kernelspec": {
   "display_name": "Python 3 (ipykernel)",
   "language": "python",
   "name": "python3"
  },
  "language_info": {
   "codemirror_mode": {
    "name": "ipython",
    "version": 3
   },
   "file_extension": ".py",
   "mimetype": "text/x-python",
   "name": "python",
   "nbconvert_exporter": "python",
   "pygments_lexer": "ipython3",
   "version": "3.12.2"
  }
 },
 "nbformat": 4,
 "nbformat_minor": 5
}
